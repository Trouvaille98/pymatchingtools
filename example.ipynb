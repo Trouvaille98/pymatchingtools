{
 "cells": [
  {
   "cell_type": "code",
   "execution_count": 1,
   "metadata": {},
   "outputs": [],
   "source": [
    "import pandas as pd\n",
    "from pymatchingtools.matching import PropensityScoreMatch"
   ]
  },
  {
   "cell_type": "code",
   "execution_count": 2,
   "metadata": {},
   "outputs": [],
   "source": [
    "column_names = ['CRIM', 'ZN', 'INDUS', 'CHAS', 'NOX', 'RM', 'AGE', 'DIS', 'RAD', 'TAX', 'PTRATIO', 'B', 'LSTAT', 'MEDV']\n",
    "\n",
    "data = pd.read_csv('housing.csv', header=None, delimiter=r\"\\s+\", names=column_names)"
   ]
  },
  {
   "cell_type": "code",
   "execution_count": 3,
   "metadata": {},
   "outputs": [
    {
     "name": "stdout",
     "output_type": "stream",
     "text": [
      "---------- balance check result ----------\n",
      "       Means Treated  Means Control  Std. Mean Diff.  Var. Ratio  ks p-value\n",
      "CRIM        1.851670       3.744447         0.220269    0.078941       0.143\n",
      "ZN          7.714286      11.634820         0.168268    0.633632       0.457\n",
      "INDUS      12.719143      11.019193        -0.248039    0.742516       0.004\n",
      "NOX         0.593426       0.551817        -0.359430    1.637602       0.114\n",
      "RM          6.519600       6.267174        -0.359621    1.632697       0.138\n",
      "AGE        77.500000      67.911677        -0.340966    0.598757       0.091\n",
      "DIS         3.029709       3.851915         0.390851    0.341991       0.037\n",
      "RAD         9.314286       9.566879         0.029038    0.889071       0.701\n",
      "control size=471, treatment size = 35\n"
     ]
    }
   ],
   "source": [
    "formula = 'CHAS ~ CRIM + ZN + INDUS + NOX + RM + AGE + DIS + RAD'\n",
    "\n",
    "matcher = PropensityScoreMatch(data=data)\n",
    "summary_df = matcher.get_match_info(formula=formula, summary_print=True)"
   ]
  },
  {
   "cell_type": "code",
   "execution_count": 4,
   "metadata": {},
   "outputs": [],
   "source": [
    "matched_data = matcher.match(\n",
    "    method='min',\n",
    "    is_fliter=True,\n",
    "    fit_method='glm'\n",
    ")"
   ]
  },
  {
   "cell_type": "code",
   "execution_count": 6,
   "metadata": {},
   "outputs": [
    {
     "name": "stdout",
     "output_type": "stream",
     "text": [
      "---------- result ----------\n",
      "   CHAS  count    sum    average         var\n",
      "0     0     35  809.5  23.128571   82.975630\n",
      "1     1     35  995.4  28.440000  139.633059\n",
      "---------- stats ----------\n",
      "ATE = [5.31142857], stats = 2.1060773210828176, p-value = 0.03889185121621797\n",
      "---------- after matched balance check result ----------\n",
      "       Means Treated  Means Control  Std. Mean Diff.  Var. Ratio  ks p-value\n",
      "CRIM        1.851670       0.495532        -0.719179   40.466763       0.005\n",
      "ZN          7.714286       8.442857         0.042015    1.331851       0.108\n",
      "INDUS      12.719143       6.734571        -1.111763    6.194878       0.000\n",
      "NOX         0.593426       0.536857        -0.504622    6.392777       0.013\n",
      "RM          6.519600       6.281029        -0.302676    1.594619       0.175\n",
      "AGE        77.500000      75.228571        -0.107084    1.105316       0.447\n",
      "DIS         3.029709       4.484449         0.968802    0.795701       0.000\n",
      "RAD         9.314286       3.942857        -0.840291   55.234652       0.003\n",
      "control size=35, treatment size = 35\n",
      "---------- randomized_confounding_test result ----------\n",
      "   CHAS  count    sum    average         var\n",
      "0     0     35  769.7  21.991429   43.805513\n",
      "1     1     35  995.4  28.440000  139.633059\n",
      "---------- randomized_confounding_test stats ----------\n",
      "ATE = [6.44857143], stats = 2.8167753215565803, p-value = 0.006343657008208603\n",
      "---------- placebo_test result ----------\n",
      "   CHAS  count       sum   average       var\n",
      "0     0     35 -6.822690 -0.194934  0.663783\n",
      "1     1     35 -9.270981 -0.264885  1.013394\n",
      "---------- placebo_test stats ----------\n",
      "ATE = [-0.06995117], stats = -0.31955051263284245, p-value = 0.7502887740775654\n",
      "---------- subset_data_test result ----------\n",
      "   CHAS  count    sum    average         var\n",
      "0     0     32  694.6  21.706250   33.002540\n",
      "1     1     32  883.5  27.609375  135.867329\n",
      "---------- subset_data_test stats ----------\n",
      "ATE = [5.903125], stats = 2.5696908942208627, p-value = 0.012597121318163474\n"
     ]
    }
   ],
   "source": [
    "matcher.after_match_check(\n",
    "    outcome_var='MEDV',\n",
    "    frac=0.8,\n",
    ")"
   ]
  },
  {
   "cell_type": "code",
   "execution_count": null,
   "metadata": {},
   "outputs": [],
   "source": []
  },
  {
   "cell_type": "code",
   "execution_count": null,
   "metadata": {},
   "outputs": [],
   "source": []
  }
 ],
 "metadata": {
  "kernelspec": {
   "display_name": "Python 3.12.3 ('python312')",
   "language": "python",
   "name": "python3"
  },
  "language_info": {
   "codemirror_mode": {
    "name": "ipython",
    "version": 3
   },
   "file_extension": ".py",
   "mimetype": "text/x-python",
   "name": "python",
   "nbconvert_exporter": "python",
   "pygments_lexer": "ipython3",
   "version": "3.12.3"
  },
  "orig_nbformat": 4,
  "vscode": {
   "interpreter": {
    "hash": "963265aa750ed27138e2e916685d03038b98406478bfb442a5c268653445ed92"
   }
  }
 },
 "nbformat": 4,
 "nbformat_minor": 2
}
